{
 "cells": [
  {
   "cell_type": "markdown",
   "metadata": {},
   "source": [
    "# This notebook to demonstrate create a new user on Kubernetes and assign a role to the user.\n",
    "\n",
    "\n",
    "## Generate private key and CSR "
   ]
  },
  {
   "cell_type": "code",
   "execution_count": 36,
   "metadata": {},
   "outputs": [
    {
     "name": "stdout",
     "output_type": "stream",
     "text": [
      "env: K8_USER=vikas-1\n"
     ]
    }
   ],
   "source": [
    "%env K8_USER=vikas-1\n"
   ]
  },
  {
   "cell_type": "code",
   "execution_count": 37,
   "metadata": {},
   "outputs": [],
   "source": [
    "!openssl genrsa -out ${K8_USER}.key 2048"
   ]
  },
  {
   "cell_type": "code",
   "execution_count": 38,
   "metadata": {},
   "outputs": [],
   "source": [
    "!openssl req -new -key ${K8_USER}.key -out ${K8_USER}.csr -subj \"/CN=${K8_USER}/O=group1\""
   ]
  },
  {
   "cell_type": "markdown",
   "metadata": {},
   "source": [
    "## Create a certificate signing request \n",
    "\n",
    "The CSR is geneated by the user and handed off to the admin - the admin takes care of signing the certificate and handing it back to the user.\n",
    "\n",
    "In the example below the admin is creating a CertificateSigningRequest using the user's CSR."
   ]
  },
  {
   "cell_type": "code",
   "execution_count": 40,
   "metadata": {},
   "outputs": [
    {
     "name": "stdout",
     "output_type": "stream",
     "text": [
      "certificatesigningrequest.certificates.k8s.io/vikas-1 created\n"
     ]
    }
   ],
   "source": [
    "import os \n",
    "\n",
    "base64_csr = os.popen(f\"cat {os.environ['K8_USER']}.csr | base64 | tr -d '\\n'\").read()\n",
    "csr_yaml = f\"\"\"---\n",
    "apiVersion: certificates.k8s.io/v1\n",
    "kind: CertificateSigningRequest\n",
    "metadata:\n",
    "  name: {os.environ['K8_USER']}\n",
    "spec:\n",
    "  groups:\n",
    "  - system:authenticated\n",
    "  request: {base64_csr}\n",
    "  signerName: kubernetes.io/kube-apiserver-client\n",
    "  usages:\n",
    "  - client auth\n",
    "\"\"\"\n",
    "\n",
    "# write csr.yaml file\n",
    "with open(\"/tmp/csr.yaml\", \"w\") as f:\n",
    "    f.write(csr_yaml)\n",
    "\n",
    "!kubectl apply -f /tmp/csr.yaml"
   ]
  },
  {
   "cell_type": "markdown",
   "metadata": {},
   "source": [
    "## Admin Will Approve the CSR \n",
    "\n",
    "Approve the CSR and generate a CRT file which will be used by the user to authenticate  \n"
   ]
  },
  {
   "cell_type": "code",
   "execution_count": 41,
   "metadata": {},
   "outputs": [
    {
     "name": "stdout",
     "output_type": "stream",
     "text": [
      "certificatesigningrequest.certificates.k8s.io/vikas-1 approved\n"
     ]
    }
   ],
   "source": [
    "! kubectl certificate approve ${K8_USER}"
   ]
  },
  {
   "cell_type": "markdown",
   "metadata": {},
   "source": [
    "## Configure kubectl to use the new user and cert "
   ]
  },
  {
   "cell_type": "code",
   "execution_count": 43,
   "metadata": {},
   "outputs": [
    {
     "name": "stdout",
     "output_type": "stream",
     "text": [
      "User \"vikas-1\" set.\n"
     ]
    }
   ],
   "source": [
    "# Get certificate \n",
    "! kubectl get csr ${K8_USER} -o jsonpath='{.status.certificate}' | base64 --decode > ${K8_USER}.crt\n",
    "\n",
    "\n",
    "# Create credentials for user in kubeconfig\n",
    "! kubectl config set-credentials ${K8_USER} --client-certificate=${K8_USER}.crt --client-key=${K8_USER}.key\n"
   ]
  },
  {
   "cell_type": "markdown",
   "metadata": {},
   "source": [
    "Assign credentials to a cluster "
   ]
  },
  {
   "cell_type": "code",
   "execution_count": 44,
   "metadata": {},
   "outputs": [
    {
     "name": "stdout",
     "output_type": "stream",
     "text": [
      "Context \"vikas-1\" created.\n"
     ]
    }
   ],
   "source": [
    "! kubectl config set-context ${K8_USER} --cluster=do-blr1-k8s-1-25-4-do-0-blr1-1677150099490 --user=${K8_USER}"
   ]
  },
  {
   "cell_type": "code",
   "execution_count": 47,
   "metadata": {},
   "outputs": [
    {
     "name": "stdout",
     "output_type": "stream",
     "text": [
      "# Bind cluster-admin role to user vikas-temp \n",
      "apiVersion: rbac.authorization.k8s.io/v1\n",
      "kind: ClusterRoleBinding\n",
      "metadata:\n",
      "  name: vikas-1-binding\n",
      "  namespace: default\n",
      "roleRef:\n",
      "  apiGroup: rbac.authorization.k8s.io\n",
      "  kind: ClusterRole\n",
      "  name: cluster-admin\n",
      "subjects:\n",
      "- kind: User\n",
      "  name: vikas-1\n",
      "  apiGroup: rbac.authorization.k8s.io\n"
     ]
    }
   ],
   "source": [
    "# Using template assign_permissions.yaml.temp generate yaml file \n",
    "! sed \"s/USER/${K8_USER}/g\" templates/assign_permissions.templ > assign_permissions.yaml\n",
    "\n",
    "! cat assign_permissions.yaml"
   ]
  },
  {
   "cell_type": "code",
   "execution_count": null,
   "metadata": {},
   "outputs": [],
   "source": [
    "! kubectl apply -f assign_permissions.yaml"
   ]
  },
  {
   "cell_type": "markdown",
   "metadata": {},
   "source": [
    "## Cleanup things "
   ]
  },
  {
   "cell_type": "code",
   "execution_count": null,
   "metadata": {},
   "outputs": [],
   "source": []
  }
 ],
 "metadata": {
  "kernelspec": {
   "display_name": "Python 3",
   "language": "python",
   "name": "python3"
  },
  "language_info": {
   "codemirror_mode": {
    "name": "ipython",
    "version": 3
   },
   "file_extension": ".py",
   "mimetype": "text/x-python",
   "name": "python",
   "nbconvert_exporter": "python",
   "pygments_lexer": "ipython3",
   "version": "3.11.2"
  }
 },
 "nbformat": 4,
 "nbformat_minor": 2
}
